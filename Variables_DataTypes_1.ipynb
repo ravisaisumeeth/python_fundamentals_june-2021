{
 "cells": [
  {
   "cell_type": "markdown",
   "id": "2d03b8ae",
   "metadata": {},
   "source": [
    "# Introduction to variables in python\n",
    "\n",
    "**variables are nothing but placeholders that we use to assign a value to it"
   ]
  },
  {
   "cell_type": "markdown",
   "id": "9536c7db",
   "metadata": {},
   "source": [
    "**Rules for declaring variables in python"
   ]
  },
  {
   "cell_type": "markdown",
   "id": "62f12dca",
   "metadata": {},
   "source": [
    "    1.A variable should not contain any namespaces while declaring it"
   ]
  },
  {
   "cell_type": "code",
   "execution_count": 10,
   "id": "d06e58c0",
   "metadata": {},
   "outputs": [
    {
     "ename": "SyntaxError",
     "evalue": "invalid syntax (<ipython-input-10-612bb97cfdcd>, line 1)",
     "output_type": "error",
     "traceback": [
      "\u001b[1;36m  File \u001b[1;32m\"<ipython-input-10-612bb97cfdcd>\"\u001b[1;36m, line \u001b[1;32m1\u001b[0m\n\u001b[1;33m    <div class=\"alert alert-block alert-info\">\u001b[0m\n\u001b[1;37m    ^\u001b[0m\n\u001b[1;31mSyntaxError\u001b[0m\u001b[1;31m:\u001b[0m invalid syntax\n"
     ]
    }
   ],
   "source": [
    "first name = 'sumith'     #wrong #error"
   ]
  },
  {
   "cell_type": "code",
   "execution_count": 3,
   "id": "bef40d4e",
   "metadata": {},
   "outputs": [],
   "source": [
    "firstname  = 'sumith'     #correct"
   ]
  },
  {
   "cell_type": "code",
   "execution_count": 4,
   "id": "a3a3ec05",
   "metadata": {},
   "outputs": [],
   "source": [
    "first_name = 'sumith'     #correct"
   ]
  },
  {
   "cell_type": "markdown",
   "id": "7f9f0e3a",
   "metadata": {},
   "source": [
    "    2. A variable should not start with a number ***"
   ]
  },
  {
   "cell_type": "code",
   "execution_count": 5,
   "id": "9c82efe0",
   "metadata": {},
   "outputs": [
    {
     "ename": "SyntaxError",
     "evalue": "invalid syntax (<ipython-input-5-7c672f95633a>, line 1)",
     "output_type": "error",
     "traceback": [
      "\u001b[1;36m  File \u001b[1;32m\"<ipython-input-5-7c672f95633a>\"\u001b[1;36m, line \u001b[1;32m1\u001b[0m\n\u001b[1;33m    1name  = 'sumith'\u001b[0m\n\u001b[1;37m     ^\u001b[0m\n\u001b[1;31mSyntaxError\u001b[0m\u001b[1;31m:\u001b[0m invalid syntax\n"
     ]
    }
   ],
   "source": [
    "1name  = 'sumith'         #error"
   ]
  },
  {
   "cell_type": "code",
   "execution_count": 6,
   "id": "9abb4321",
   "metadata": {},
   "outputs": [],
   "source": [
    "name1 = 'Sumith'         #correct"
   ]
  },
  {
   "cell_type": "code",
   "execution_count": 7,
   "id": "de0c2eab",
   "metadata": {},
   "outputs": [],
   "source": [
    "na1me = 'sumith'         #correct"
   ]
  },
  {
   "cell_type": "markdown",
   "id": "01b15f8f",
   "metadata": {},
   "source": [
    "    3. A variable should not contain special characters"
   ]
  },
  {
   "cell_type": "code",
   "execution_count": null,
   "id": "a8bf06da",
   "metadata": {},
   "outputs": [],
   "source": [
    "n@me , $umith , &sae, etc."
   ]
  },
  {
   "cell_type": "markdown",
   "id": "eab74b0c",
   "metadata": {},
   "source": [
    "# Introduction to Data Types\n",
    "   \n",
    "**Data types:\n",
    "     1. String       ---> str\n",
    "     2. Numbers      ---> int(Intergers) & Floating point numbers\n",
    "     3. List         ---> list\n",
    "     4. Tuple        ---> tuple\n",
    "     5. Dictionaries ---> dict\n",
    "    \n",
    " **classification of Data types:\n",
    "     *mutable       ---> can be changed or altered (flexible)\n",
    "     *immutable     ---> cannot be changed or altered (fixed)"
   ]
  },
  {
   "cell_type": "markdown",
   "id": "d6849748",
   "metadata": {},
   "source": [
    "## Introduction to String\n",
    "\n",
    "**Overview:\n",
    "***A string is an ordered sequence of characters enclosed in quotes\n",
    "\n",
    "**Classification:\n",
    "***It is an immutable data type\n",
    "\n",
    "**Define:\n",
    "***We can define a string in three possible combinations they are:"
   ]
  },
  {
   "cell_type": "code",
   "execution_count": 15,
   "id": "b9f3f1fc",
   "metadata": {},
   "outputs": [],
   "source": [
    "Name = 'Sumith'"
   ]
  },
  {
   "cell_type": "code",
   "execution_count": 19,
   "id": "67752f17",
   "metadata": {},
   "outputs": [],
   "source": [
    "Name1 = \"Sumith\""
   ]
  },
  {
   "cell_type": "code",
   "execution_count": 20,
   "id": "cb659101",
   "metadata": {},
   "outputs": [],
   "source": [
    "Name2 = \"'Sumith'\""
   ]
  },
  {
   "cell_type": "markdown",
   "id": "31ca1c9b",
   "metadata": {},
   "source": [
    "#### Introduction to string methods\n",
    "\n",
    "**Methods are buitin programs in python"
   ]
  },
  {
   "cell_type": "markdown",
   "id": "1912f8e6",
   "metadata": {},
   "source": [
    "**1.) type ---> \n",
    "        ***It is used for confirming the data type"
   ]
  },
  {
   "cell_type": "code",
   "execution_count": 18,
   "id": "5469985f",
   "metadata": {},
   "outputs": [
    {
     "data": {
      "text/plain": [
       "str"
      ]
     },
     "execution_count": 18,
     "metadata": {},
     "output_type": "execute_result"
    }
   ],
   "source": [
    "type(Name)"
   ]
  },
  {
   "cell_type": "code",
   "execution_count": 21,
   "id": "151ff047",
   "metadata": {},
   "outputs": [
    {
     "data": {
      "text/plain": [
       "str"
      ]
     },
     "execution_count": 21,
     "metadata": {},
     "output_type": "execute_result"
    }
   ],
   "source": [
    "type(Name1)"
   ]
  },
  {
   "cell_type": "code",
   "execution_count": 22,
   "id": "f4c54711",
   "metadata": {},
   "outputs": [
    {
     "data": {
      "text/plain": [
       "str"
      ]
     },
     "execution_count": 22,
     "metadata": {},
     "output_type": "execute_result"
    }
   ],
   "source": [
    "type(Name2)"
   ]
  },
  {
   "cell_type": "code",
   "execution_count": null,
   "id": "722966a4",
   "metadata": {},
   "outputs": [],
   "source": []
  }
 ],
 "metadata": {
  "kernelspec": {
   "display_name": "Python 3",
   "language": "python",
   "name": "python3"
  },
  "language_info": {
   "codemirror_mode": {
    "name": "ipython",
    "version": 3
   },
   "file_extension": ".py",
   "mimetype": "text/x-python",
   "name": "python",
   "nbconvert_exporter": "python",
   "pygments_lexer": "ipython3",
   "version": "3.8.8"
  }
 },
 "nbformat": 4,
 "nbformat_minor": 5
}
